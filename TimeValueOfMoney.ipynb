{
 "cells": [
  {
   "cell_type": "code",
   "execution_count": 4,
   "metadata": {},
   "outputs": [],
   "source": [
    "import pandas as pd\n",
    "import numpy as np\n",
    "import matplotlib.pyplot as plt\n",
    "import math"
   ]
  },
  {
   "cell_type": "markdown",
   "metadata": {},
   "source": [
    "# NoteWorthy Formulas Discussed\n",
    "\n",
    "### Time Value of Money for Constant Interest\n",
    "\n",
    "$$\n",
    "FV = PV \\begin{pmatrix}1 + r \\end{pmatrix}^{n}\n",
    "$$\n",
    "\n",
    "### PV of Perpetuity\n",
    "\n",
    "$$\n",
    "PV = \\frac{PMT}{r}\n",
    "$$\n",
    "\n",
    "### PV of Annuity Formula\n",
    "\n",
    "$$\n",
    "PV = PMT \\begin{pmatrix}\\frac{1}{r} - \\frac{1}{r(1+r)^{t}}\\end{pmatrix}\n",
    "$$\n",
    "### Variable Keys\n",
    "$$\n",
    "\\begin{align*}\n",
    "FV &  : \\text{Future Value}\\\\\n",
    "PV &  : \\text{Present Value}\\\\\n",
    "r &  : \\text{Interest Rate (\\%)}\\\\\n",
    "n &  : \\text{Number of Periods}\\\\\n",
    "t &  : \\text{Number of Periods Cash Payment is Received}\\\\\n",
    "\\end{align*}"
   ]
  },
  {
   "cell_type": "code",
   "execution_count": 7,
   "metadata": {},
   "outputs": [],
   "source": [
    "def pv_perp(pmt, r) -> float:\n",
    "    return pmt/r\n",
    "\n",
    "\n",
    "def pv(fv, r, n) -> float:\n",
    "    return fv / ((1 + r)**n)\n",
    "\n",
    "\n",
    "def nper(fv, pv, r) -> float:\n",
    "    return math.log(fv/pv, 1+r)\n",
    "\n",
    "\n",
    "def pv_annuity(pmt, r, t) -> float:\n",
    "    return pmt * ((1/r) - (1/(r * ((1 + r)**t))))\n",
    "\n",
    "\n",
    "def pmt_annuity(pv, r, t) -> float:\n",
    "    return pv / (1/(r * ((1 + r)**t)))"
   ]
  },
  {
   "cell_type": "markdown",
   "metadata": {},
   "source": [
    "# Lecture 5"
   ]
  },
  {
   "cell_type": "markdown",
   "metadata": {},
   "source": [
    "## Practice Problem 1\n",
    "\n",
    "You have decided to buy a new car, but you require financing from the car dealer.\n",
    "\n",
    "  The dealer offers you two options to choose from:\\\n",
    "Loan A is ZERO PERCENT FINANCING,\\\n",
    "while Loan B is NO MONEY DOWN and includes a REBATE.\n",
    "\n",
    "Specifics:  the Car has a sticker price of $48,000 dollars;\\\n",
    "Loan A requires \\$4,000 as a down payment and offers a contractual interest rate ($i$) of 0% and a term of 60 months.\\\n",
    "Loan B offers a \\$5,700 rebate off the sticker price and a contractual interest rate ( $i$) of 4.5% for a term of 72 months.\n",
    "\n",
    "Your market rate of interest ($r$) is 6%.\\\n",
    "  Pick the best loan."
   ]
  },
  {
   "cell_type": "markdown",
   "metadata": {},
   "source": [
    "### Loan A"
   ]
  },
  {
   "cell_type": "code",
   "execution_count": 9,
   "metadata": {},
   "outputs": [],
   "source": [
    "totalcost = 48000\n",
    "\n",
    "# Payment\n",
    "# Uses Contractual interest rate (i)\n",
    "i = 0\n",
    "nper = 60\n",
    "downpayment = 4000"
   ]
  },
  {
   "cell_type": "code",
   "execution_count": null,
   "metadata": {},
   "outputs": [],
   "source": []
  }
 ],
 "metadata": {
  "kernelspec": {
   "display_name": "base",
   "language": "python",
   "name": "python3"
  },
  "language_info": {
   "codemirror_mode": {
    "name": "ipython",
    "version": 3
   },
   "file_extension": ".py",
   "mimetype": "text/x-python",
   "name": "python",
   "nbconvert_exporter": "python",
   "pygments_lexer": "ipython3",
   "version": "3.11.5"
  }
 },
 "nbformat": 4,
 "nbformat_minor": 2
}
